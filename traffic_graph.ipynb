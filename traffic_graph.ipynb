{
 "cells": [
  {
   "cell_type": "code",
   "execution_count": 56,
   "metadata": {
    "collapsed": true
   },
   "outputs": [],
   "source": [
    "import numpy as np\n",
    "import pprint\n",
    "import matplotlib.pyplot as plt\n",
    "import matplotlib.figure as fig"
   ]
  },
  {
   "cell_type": "code",
   "execution_count": 57,
   "metadata": {
    "collapsed": true
   },
   "outputs": [],
   "source": [
    "%matplotlib inline"
   ]
  },
  {
   "cell_type": "code",
   "execution_count": 58,
   "metadata": {
    "collapsed": true
   },
   "outputs": [],
   "source": [
    "class Car:\n",
    "\n",
    "    def __init__(self, location=0, length=5, desired_speed=3.33,\\\n",
    "                speed=0):\n",
    "\n",
    "                self.location = location\n",
    "                self.length = length\n",
    "                self.desired_speed = desired_speed\n",
    "                self.speed = speed\n",
    "\n",
    "\n",
    "    def distance(self, next_car):\n",
    "\n",
    "        if (next_car.location -5) <= 100 and self.location > 750:\n",
    "            return ((next_car.location) + 1000) - self.location\n",
    "        else:\n",
    "            return (next_car.location -5) - self.location\n",
    "\n",
    "    def update_speed(self, next_car):\n",
    "        if np.random.randint(1,11) == 1:\n",
    "            if self.speed == 0 or self.speed <= 2:\n",
    "                self.speed = 0\n",
    "            else:\n",
    "              self.speed = self.speed - 2\n",
    "        else:\n",
    "            if self.desired_speed < self.distance(next_car):\n",
    "                if self.speed <= self.desired_speed - 2:\n",
    "                    self.speed = self.speed + 2\n",
    "                else:\n",
    "                    self.speed = self.desired_speed\n",
    "            elif self.speed > self.distance(next_car):\n",
    "                self.speed = self.distance(next_car)\n",
    "\n",
    "\n",
    "\n",
    "    def next_position(self):\n",
    "        return (self.location + self.speed) % 1000\n",
    "\n",
    "    def move(self):\n",
    "        self.location = self.next_position()"
   ]
  },
  {
   "cell_type": "code",
   "execution_count": 59,
   "metadata": {
    "collapsed": true
   },
   "outputs": [],
   "source": [
    "class Simulation:\n",
    "\n",
    "    def __init__(self, cars):\n",
    "        self.cars = cars\n",
    "\n",
    "\n",
    "    def run(self):\n",
    "\n",
    "        new_speed = []\n",
    "        new_loc = []\n",
    "        sim = {0: list(zip(([0]*len(self.cars)),list_starting_pos)),  }\n",
    "        tick = 0\n",
    "\n",
    "        while (tick < 60):\n",
    "            for idx in range(len(self.cars)):\n",
    "                self.cars[idx].update_speed(self.cars[((idx + 1)%len(self.cars))])\n",
    "                self.cars[idx].next_position()\n",
    "                self.cars[idx].move()\n",
    "                new_speed.append(self.cars[idx].speed)\n",
    "                new_loc.append(self.cars[idx].location)\n",
    "#             sim[tick +1] = list(zip(new_speed, new_loc))\n",
    "#             new_speed = []\n",
    "#             new_loc = []\n",
    "            tick += 1\n",
    "\n",
    "        return new_loc"
   ]
  },
  {
   "cell_type": "code",
   "execution_count": 60,
   "metadata": {
    "collapsed": true
   },
   "outputs": [],
   "source": [
    "cars = [Car() for _ in range(30)]\n",
    "\n",
    "starting_pos = np.linspace(0, 995, len(cars))\n",
    "list_starting_pos = np.array(starting_pos).tolist()\n",
    "\n",
    "for car, pos in zip(cars, starting_pos):\n",
    "    car.location = pos"
   ]
  },
  {
   "cell_type": "code",
   "execution_count": 73,
   "metadata": {
    "collapsed": false,
    "scrolled": false
   },
   "outputs": [
    {
     "data": {
      "image/png": "[encoded data removed]",
      "text/plain": [
       "<matplotlib.figure.Figure at 0x112336f28>"
      ]
     },
     "metadata": {},
     "output_type": "display_data"
    }
   ],
   "source": [
    "# x = [key for key in Simulation(cars).run().keys()]\n",
    "# y = [val[1] for val in Simulation(cars).run().values()]\n",
    "\n",
    "x = np.array([[x]*30 for x in range(60)]).flatten()\n",
    "\n",
    "y = Simulation(cars).run()\n",
    "\n",
    "plt.figure(num=None, figsize=(8, 6), dpi=80, facecolor='w', edgecolor='k')\n",
    "\n",
    "plt.scatter(x,y)\n",
    "# plt.xticks(range(5), x)\n",
    "plt.xlabel(\"Time Lapse 60sec\")\n",
    "plt.ylabel(\"Meters\")\n",
    "plt.title(\"Traffic Simulation\")\n",
    "plt.show()\n"
   ]
  },
  {
   "cell_type": "code",
   "execution_count": null,
   "metadata": {
    "collapsed": true
   },
   "outputs": [],
   "source": []
  },
  {
   "cell_type": "code",
   "execution_count": null,
   "metadata": {
    "collapsed": true
   },
   "outputs": [],
   "source": []
  },
  {
   "cell_type": "code",
   "execution_count": null,
   "metadata": {
    "collapsed": true
   },
   "outputs": [],
   "source": []
  }
 ],
 "metadata": {
  "kernelspec": {
   "display_name": "Python 3",
   "language": "python",
   "name": "python3"
  },
  "language_info": {
   "codemirror_mode": {
    "name": "ipython",
    "version": 3
   },
   "file_extension": ".py",
   "mimetype": "text/x-python",
   "name": "python",
   "nbconvert_exporter": "python",
   "pygments_lexer": "ipython3",
   "version": "3.4.3"
  }
 },
 "nbformat": 4,
 "nbformat_minor": 0
}
